{
 "cells": [
  {
   "cell_type": "code",
   "execution_count": 2,
   "metadata": {},
   "outputs": [],
   "source": [
    "import pandas as pd\n",
    "import numpy as np\n",
    "import matplotlib.pyplot as plt\n",
    "import seaborn as sns"
   ]
  },
  {
   "cell_type": "code",
   "execution_count": 3,
   "metadata": {},
   "outputs": [
    {
     "data": {
      "text/plain": [
       "array([-1.00000000e+00, -9.00000000e-01, -8.00000000e-01, -7.00000000e-01,\n",
       "       -6.00000000e-01, -5.00000000e-01, -4.00000000e-01, -3.00000000e-01,\n",
       "       -2.00000000e-01, -1.00000000e-01, -2.22044605e-16,  1.00000000e-01,\n",
       "        2.00000000e-01,  3.00000000e-01,  4.00000000e-01,  5.00000000e-01,\n",
       "        6.00000000e-01,  7.00000000e-01,  8.00000000e-01,  9.00000000e-01,\n",
       "        1.00000000e+00,  1.10000000e+00])"
      ]
     },
     "execution_count": 3,
     "metadata": {},
     "output_type": "execute_result"
    }
   ],
   "source": [
    "X = np.arange(-1,1.2,0.1)\n",
    "X"
   ]
  },
  {
   "cell_type": "code",
   "execution_count": 4,
   "metadata": {},
   "outputs": [
    {
     "data": {
      "text/plain": [
       "array([-1.00000000e+00, -7.29000000e-01, -5.12000000e-01, -3.43000000e-01,\n",
       "       -2.16000000e-01, -1.25000000e-01, -6.40000000e-02, -2.70000000e-02,\n",
       "       -8.00000000e-03, -1.00000000e-03, -1.09476443e-47,  1.00000000e-03,\n",
       "        8.00000000e-03,  2.70000000e-02,  6.40000000e-02,  1.25000000e-01,\n",
       "        2.16000000e-01,  3.43000000e-01,  5.12000000e-01,  7.29000000e-01,\n",
       "        1.00000000e+00,  1.33100000e+00])"
      ]
     },
     "execution_count": 4,
     "metadata": {},
     "output_type": "execute_result"
    }
   ],
   "source": [
    "y = X**3\n",
    "y"
   ]
  },
  {
   "cell_type": "code",
   "execution_count": 5,
   "metadata": {},
   "outputs": [
    {
     "data": {
      "text/html": [
       "<div>\n",
       "<style scoped>\n",
       "    .dataframe tbody tr th:only-of-type {\n",
       "        vertical-align: middle;\n",
       "    }\n",
       "\n",
       "    .dataframe tbody tr th {\n",
       "        vertical-align: top;\n",
       "    }\n",
       "\n",
       "    .dataframe thead th {\n",
       "        text-align: right;\n",
       "    }\n",
       "</style>\n",
       "<table border=\"1\" class=\"dataframe\">\n",
       "  <thead>\n",
       "    <tr style=\"text-align: right;\">\n",
       "      <th></th>\n",
       "      <th>X</th>\n",
       "      <th>y</th>\n",
       "    </tr>\n",
       "  </thead>\n",
       "  <tbody>\n",
       "    <tr>\n",
       "      <th>0</th>\n",
       "      <td>-1.000000e+00</td>\n",
       "      <td>-1.000000e+00</td>\n",
       "    </tr>\n",
       "    <tr>\n",
       "      <th>1</th>\n",
       "      <td>-9.000000e-01</td>\n",
       "      <td>-7.290000e-01</td>\n",
       "    </tr>\n",
       "    <tr>\n",
       "      <th>2</th>\n",
       "      <td>-8.000000e-01</td>\n",
       "      <td>-5.120000e-01</td>\n",
       "    </tr>\n",
       "    <tr>\n",
       "      <th>3</th>\n",
       "      <td>-7.000000e-01</td>\n",
       "      <td>-3.430000e-01</td>\n",
       "    </tr>\n",
       "    <tr>\n",
       "      <th>4</th>\n",
       "      <td>-6.000000e-01</td>\n",
       "      <td>-2.160000e-01</td>\n",
       "    </tr>\n",
       "    <tr>\n",
       "      <th>5</th>\n",
       "      <td>-5.000000e-01</td>\n",
       "      <td>-1.250000e-01</td>\n",
       "    </tr>\n",
       "    <tr>\n",
       "      <th>6</th>\n",
       "      <td>-4.000000e-01</td>\n",
       "      <td>-6.400000e-02</td>\n",
       "    </tr>\n",
       "    <tr>\n",
       "      <th>7</th>\n",
       "      <td>-3.000000e-01</td>\n",
       "      <td>-2.700000e-02</td>\n",
       "    </tr>\n",
       "    <tr>\n",
       "      <th>8</th>\n",
       "      <td>-2.000000e-01</td>\n",
       "      <td>-8.000000e-03</td>\n",
       "    </tr>\n",
       "    <tr>\n",
       "      <th>9</th>\n",
       "      <td>-1.000000e-01</td>\n",
       "      <td>-1.000000e-03</td>\n",
       "    </tr>\n",
       "    <tr>\n",
       "      <th>10</th>\n",
       "      <td>-2.220446e-16</td>\n",
       "      <td>-1.094764e-47</td>\n",
       "    </tr>\n",
       "    <tr>\n",
       "      <th>11</th>\n",
       "      <td>1.000000e-01</td>\n",
       "      <td>1.000000e-03</td>\n",
       "    </tr>\n",
       "    <tr>\n",
       "      <th>12</th>\n",
       "      <td>2.000000e-01</td>\n",
       "      <td>8.000000e-03</td>\n",
       "    </tr>\n",
       "    <tr>\n",
       "      <th>13</th>\n",
       "      <td>3.000000e-01</td>\n",
       "      <td>2.700000e-02</td>\n",
       "    </tr>\n",
       "    <tr>\n",
       "      <th>14</th>\n",
       "      <td>4.000000e-01</td>\n",
       "      <td>6.400000e-02</td>\n",
       "    </tr>\n",
       "    <tr>\n",
       "      <th>15</th>\n",
       "      <td>5.000000e-01</td>\n",
       "      <td>1.250000e-01</td>\n",
       "    </tr>\n",
       "    <tr>\n",
       "      <th>16</th>\n",
       "      <td>6.000000e-01</td>\n",
       "      <td>2.160000e-01</td>\n",
       "    </tr>\n",
       "    <tr>\n",
       "      <th>17</th>\n",
       "      <td>7.000000e-01</td>\n",
       "      <td>3.430000e-01</td>\n",
       "    </tr>\n",
       "    <tr>\n",
       "      <th>18</th>\n",
       "      <td>8.000000e-01</td>\n",
       "      <td>5.120000e-01</td>\n",
       "    </tr>\n",
       "    <tr>\n",
       "      <th>19</th>\n",
       "      <td>9.000000e-01</td>\n",
       "      <td>7.290000e-01</td>\n",
       "    </tr>\n",
       "    <tr>\n",
       "      <th>20</th>\n",
       "      <td>1.000000e+00</td>\n",
       "      <td>1.000000e+00</td>\n",
       "    </tr>\n",
       "    <tr>\n",
       "      <th>21</th>\n",
       "      <td>1.100000e+00</td>\n",
       "      <td>1.331000e+00</td>\n",
       "    </tr>\n",
       "  </tbody>\n",
       "</table>\n",
       "</div>"
      ],
      "text/plain": [
       "               X             y\n",
       "0  -1.000000e+00 -1.000000e+00\n",
       "1  -9.000000e-01 -7.290000e-01\n",
       "2  -8.000000e-01 -5.120000e-01\n",
       "3  -7.000000e-01 -3.430000e-01\n",
       "4  -6.000000e-01 -2.160000e-01\n",
       "5  -5.000000e-01 -1.250000e-01\n",
       "6  -4.000000e-01 -6.400000e-02\n",
       "7  -3.000000e-01 -2.700000e-02\n",
       "8  -2.000000e-01 -8.000000e-03\n",
       "9  -1.000000e-01 -1.000000e-03\n",
       "10 -2.220446e-16 -1.094764e-47\n",
       "11  1.000000e-01  1.000000e-03\n",
       "12  2.000000e-01  8.000000e-03\n",
       "13  3.000000e-01  2.700000e-02\n",
       "14  4.000000e-01  6.400000e-02\n",
       "15  5.000000e-01  1.250000e-01\n",
       "16  6.000000e-01  2.160000e-01\n",
       "17  7.000000e-01  3.430000e-01\n",
       "18  8.000000e-01  5.120000e-01\n",
       "19  9.000000e-01  7.290000e-01\n",
       "20  1.000000e+00  1.000000e+00\n",
       "21  1.100000e+00  1.331000e+00"
      ]
     },
     "execution_count": 5,
     "metadata": {},
     "output_type": "execute_result"
    }
   ],
   "source": [
    "df = pd.DataFrame({'X':X, 'y':y})\n",
    "df"
   ]
  },
  {
   "cell_type": "code",
   "execution_count": 6,
   "metadata": {},
   "outputs": [
    {
     "data": {
      "image/png": "[encoded data removed]",
      "text/plain": [
       "<Figure size 640x480 with 1 Axes>"
      ]
     },
     "metadata": {},
     "output_type": "display_data"
    }
   ],
   "source": [
    "plt.plot(X,y)\n",
    "plt.grid()\n",
    "plt.show()"
   ]
  },
  {
   "cell_type": "code",
   "execution_count": 7,
   "metadata": {},
   "outputs": [
    {
     "data": {
      "text/plain": [
       "array([-1.00000000e+00, -9.65489385e-01, -9.28317767e-01, -8.87904002e-01,\n",
       "       -8.43432665e-01, -7.93700526e-01, -7.36806300e-01, -6.69432950e-01,\n",
       "       -5.84803548e-01, -4.64158883e-01, -6.05545445e-06,  4.64158883e-01,\n",
       "        5.84803548e-01,  6.69432950e-01,  7.36806300e-01,  7.93700526e-01,\n",
       "        8.43432665e-01,  8.87904002e-01,  9.28317767e-01,  9.65489385e-01,\n",
       "        1.00000000e+00,  1.03228012e+00])"
      ]
     },
     "execution_count": 7,
     "metadata": {},
     "output_type": "execute_result"
    }
   ],
   "source": [
    "y1 = np.cbrt(X)\n",
    "y1"
   ]
  },
  {
   "cell_type": "code",
   "execution_count": 8,
   "metadata": {},
   "outputs": [
    {
     "data": {
      "text/html": [
       "<div>\n",
       "<style scoped>\n",
       "    .dataframe tbody tr th:only-of-type {\n",
       "        vertical-align: middle;\n",
       "    }\n",
       "\n",
       "    .dataframe tbody tr th {\n",
       "        vertical-align: top;\n",
       "    }\n",
       "\n",
       "    .dataframe thead th {\n",
       "        text-align: right;\n",
       "    }\n",
       "</style>\n",
       "<table border=\"1\" class=\"dataframe\">\n",
       "  <thead>\n",
       "    <tr style=\"text-align: right;\">\n",
       "      <th></th>\n",
       "      <th>X</th>\n",
       "      <th>y</th>\n",
       "    </tr>\n",
       "  </thead>\n",
       "  <tbody>\n",
       "    <tr>\n",
       "      <th>0</th>\n",
       "      <td>-1.000000e+00</td>\n",
       "      <td>-1.000000</td>\n",
       "    </tr>\n",
       "    <tr>\n",
       "      <th>1</th>\n",
       "      <td>-9.000000e-01</td>\n",
       "      <td>-0.965489</td>\n",
       "    </tr>\n",
       "    <tr>\n",
       "      <th>2</th>\n",
       "      <td>-8.000000e-01</td>\n",
       "      <td>-0.928318</td>\n",
       "    </tr>\n",
       "    <tr>\n",
       "      <th>3</th>\n",
       "      <td>-7.000000e-01</td>\n",
       "      <td>-0.887904</td>\n",
       "    </tr>\n",
       "    <tr>\n",
       "      <th>4</th>\n",
       "      <td>-6.000000e-01</td>\n",
       "      <td>-0.843433</td>\n",
       "    </tr>\n",
       "    <tr>\n",
       "      <th>5</th>\n",
       "      <td>-5.000000e-01</td>\n",
       "      <td>-0.793701</td>\n",
       "    </tr>\n",
       "    <tr>\n",
       "      <th>6</th>\n",
       "      <td>-4.000000e-01</td>\n",
       "      <td>-0.736806</td>\n",
       "    </tr>\n",
       "    <tr>\n",
       "      <th>7</th>\n",
       "      <td>-3.000000e-01</td>\n",
       "      <td>-0.669433</td>\n",
       "    </tr>\n",
       "    <tr>\n",
       "      <th>8</th>\n",
       "      <td>-2.000000e-01</td>\n",
       "      <td>-0.584804</td>\n",
       "    </tr>\n",
       "    <tr>\n",
       "      <th>9</th>\n",
       "      <td>-1.000000e-01</td>\n",
       "      <td>-0.464159</td>\n",
       "    </tr>\n",
       "    <tr>\n",
       "      <th>10</th>\n",
       "      <td>-2.220446e-16</td>\n",
       "      <td>-0.000006</td>\n",
       "    </tr>\n",
       "    <tr>\n",
       "      <th>11</th>\n",
       "      <td>1.000000e-01</td>\n",
       "      <td>0.464159</td>\n",
       "    </tr>\n",
       "    <tr>\n",
       "      <th>12</th>\n",
       "      <td>2.000000e-01</td>\n",
       "      <td>0.584804</td>\n",
       "    </tr>\n",
       "    <tr>\n",
       "      <th>13</th>\n",
       "      <td>3.000000e-01</td>\n",
       "      <td>0.669433</td>\n",
       "    </tr>\n",
       "    <tr>\n",
       "      <th>14</th>\n",
       "      <td>4.000000e-01</td>\n",
       "      <td>0.736806</td>\n",
       "    </tr>\n",
       "    <tr>\n",
       "      <th>15</th>\n",
       "      <td>5.000000e-01</td>\n",
       "      <td>0.793701</td>\n",
       "    </tr>\n",
       "    <tr>\n",
       "      <th>16</th>\n",
       "      <td>6.000000e-01</td>\n",
       "      <td>0.843433</td>\n",
       "    </tr>\n",
       "    <tr>\n",
       "      <th>17</th>\n",
       "      <td>7.000000e-01</td>\n",
       "      <td>0.887904</td>\n",
       "    </tr>\n",
       "    <tr>\n",
       "      <th>18</th>\n",
       "      <td>8.000000e-01</td>\n",
       "      <td>0.928318</td>\n",
       "    </tr>\n",
       "    <tr>\n",
       "      <th>19</th>\n",
       "      <td>9.000000e-01</td>\n",
       "      <td>0.965489</td>\n",
       "    </tr>\n",
       "    <tr>\n",
       "      <th>20</th>\n",
       "      <td>1.000000e+00</td>\n",
       "      <td>1.000000</td>\n",
       "    </tr>\n",
       "    <tr>\n",
       "      <th>21</th>\n",
       "      <td>1.100000e+00</td>\n",
       "      <td>1.032280</td>\n",
       "    </tr>\n",
       "  </tbody>\n",
       "</table>\n",
       "</div>"
      ],
      "text/plain": [
       "               X         y\n",
       "0  -1.000000e+00 -1.000000\n",
       "1  -9.000000e-01 -0.965489\n",
       "2  -8.000000e-01 -0.928318\n",
       "3  -7.000000e-01 -0.887904\n",
       "4  -6.000000e-01 -0.843433\n",
       "5  -5.000000e-01 -0.793701\n",
       "6  -4.000000e-01 -0.736806\n",
       "7  -3.000000e-01 -0.669433\n",
       "8  -2.000000e-01 -0.584804\n",
       "9  -1.000000e-01 -0.464159\n",
       "10 -2.220446e-16 -0.000006\n",
       "11  1.000000e-01  0.464159\n",
       "12  2.000000e-01  0.584804\n",
       "13  3.000000e-01  0.669433\n",
       "14  4.000000e-01  0.736806\n",
       "15  5.000000e-01  0.793701\n",
       "16  6.000000e-01  0.843433\n",
       "17  7.000000e-01  0.887904\n",
       "18  8.000000e-01  0.928318\n",
       "19  9.000000e-01  0.965489\n",
       "20  1.000000e+00  1.000000\n",
       "21  1.100000e+00  1.032280"
      ]
     },
     "execution_count": 8,
     "metadata": {},
     "output_type": "execute_result"
    }
   ],
   "source": [
    "df1 = pd.DataFrame({'X':X, 'y':y1})\n",
    "df1"
   ]
  },
  {
   "cell_type": "code",
   "execution_count": 9,
   "metadata": {},
   "outputs": [
    {
     "data": {
      "image/png": "[encoded data removed]",
      "text/plain": [
       "<Figure size 640x480 with 1 Axes>"
      ]
     },
     "metadata": {},
     "output_type": "display_data"
    }
   ],
   "source": [
    "plt.plot(X,y1)\n",
    "plt.grid()\n",
    "plt.show()"
   ]
  },
  {
   "cell_type": "code",
   "execution_count": 10,
   "metadata": {},
   "outputs": [
    {
     "data": {
      "image/png": "[encoded data removed]",
      "text/plain": [
       "<Figure size 640x480 with 1 Axes>"
      ]
     },
     "metadata": {},
     "output_type": "display_data"
    }
   ],
   "source": [
    "plt.plot(X,y)\n",
    "plt.plot(X,y1)\n",
    "plt.grid()\n",
    "plt.show()"
   ]
  },
  {
   "cell_type": "code",
   "execution_count": 11,
   "metadata": {},
   "outputs": [
    {
     "data": {
      "image/png": "[encoded data removed]",
      "text/plain": [
       "<Figure size 640x480 with 1 Axes>"
      ]
     },
     "metadata": {},
     "output_type": "display_data"
    }
   ],
   "source": [
    "sns.scatterplot(x='X', y='y', data=df1)\n",
    "plt.grid()\n",
    "plt.show()"
   ]
  },
  {
   "cell_type": "code",
   "execution_count": 12,
   "metadata": {},
   "outputs": [
    {
     "data": {
      "text/plain": [
       "[<matplotlib.lines.Line2D at 0x7d0e756f3d30>]"
      ]
     },
     "execution_count": 12,
     "metadata": {},
     "output_type": "execute_result"
    },
    {
     "data": {
      "image/png": "[encoded data removed]",
      "text/plain": [
       "<Figure size 640x480 with 1 Axes>"
      ]
     },
     "metadata": {},
     "output_type": "display_data"
    }
   ],
   "source": [
    "plt.plot(X,X)"
   ]
  },
  {
   "cell_type": "code",
   "execution_count": 13,
   "metadata": {},
   "outputs": [
    {
     "data": {
      "image/png": "[encoded data removed]",
      "text/plain": [
       "<Figure size 640x480 with 1 Axes>"
      ]
     },
     "metadata": {},
     "output_type": "display_data"
    }
   ],
   "source": [
    "sns.scatterplot(x='X', y='y', data=df)\n",
    "sns.scatterplot(x='X', y='y', data=df1)\n",
    "plt.plot(X, X, 'r--', label='y=x')  # adds a red dashed line y=x\n",
    "plt.grid()\n",
    "plt.legend()\n",
    "plt.show()"
   ]
  },
  {
   "cell_type": "code",
   "execution_count": 14,
   "metadata": {},
   "outputs": [
    {
     "data": {
      "image/png": "[encoded data removed]",
      "text/plain": [
       "<Figure size 640x480 with 1 Axes>"
      ]
     },
     "metadata": {},
     "output_type": "display_data"
    }
   ],
   "source": [
    "sns.scatterplot(x='X', y='y', data=df)\n",
    "sns.scatterplot(x='X', y='y', data=df1)\n",
    "plt.grid()\n",
    "plt.show()\n"
   ]
  },
  {
   "cell_type": "code",
   "execution_count": 15,
   "metadata": {},
   "outputs": [
    {
     "data": {
      "text/plain": [
       "array([1.00000000e+00, 8.10000000e-01, 6.40000000e-01, 4.90000000e-01,\n",
       "       3.60000000e-01, 2.50000000e-01, 1.60000000e-01, 9.00000000e-02,\n",
       "       4.00000000e-02, 1.00000000e-02, 4.93038066e-32, 1.00000000e-02,\n",
       "       4.00000000e-02, 9.00000000e-02, 1.60000000e-01, 2.50000000e-01,\n",
       "       3.60000000e-01, 4.90000000e-01, 6.40000000e-01, 8.10000000e-01,\n",
       "       1.00000000e+00, 1.21000000e+00])"
      ]
     },
     "execution_count": 15,
     "metadata": {},
     "output_type": "execute_result"
    }
   ],
   "source": [
    "y2 = np.power(X,2)\n",
    "y2"
   ]
  },
  {
   "cell_type": "code",
   "execution_count": 16,
   "metadata": {},
   "outputs": [
    {
     "data": {
      "text/html": [
       "<div>\n",
       "<style scoped>\n",
       "    .dataframe tbody tr th:only-of-type {\n",
       "        vertical-align: middle;\n",
       "    }\n",
       "\n",
       "    .dataframe tbody tr th {\n",
       "        vertical-align: top;\n",
       "    }\n",
       "\n",
       "    .dataframe thead th {\n",
       "        text-align: right;\n",
       "    }\n",
       "</style>\n",
       "<table border=\"1\" class=\"dataframe\">\n",
       "  <thead>\n",
       "    <tr style=\"text-align: right;\">\n",
       "      <th></th>\n",
       "      <th>X</th>\n",
       "      <th>y</th>\n",
       "    </tr>\n",
       "  </thead>\n",
       "  <tbody>\n",
       "    <tr>\n",
       "      <th>0</th>\n",
       "      <td>-1.000000e+00</td>\n",
       "      <td>1.000000e+00</td>\n",
       "    </tr>\n",
       "    <tr>\n",
       "      <th>1</th>\n",
       "      <td>-9.000000e-01</td>\n",
       "      <td>8.100000e-01</td>\n",
       "    </tr>\n",
       "    <tr>\n",
       "      <th>2</th>\n",
       "      <td>-8.000000e-01</td>\n",
       "      <td>6.400000e-01</td>\n",
       "    </tr>\n",
       "    <tr>\n",
       "      <th>3</th>\n",
       "      <td>-7.000000e-01</td>\n",
       "      <td>4.900000e-01</td>\n",
       "    </tr>\n",
       "    <tr>\n",
       "      <th>4</th>\n",
       "      <td>-6.000000e-01</td>\n",
       "      <td>3.600000e-01</td>\n",
       "    </tr>\n",
       "    <tr>\n",
       "      <th>5</th>\n",
       "      <td>-5.000000e-01</td>\n",
       "      <td>2.500000e-01</td>\n",
       "    </tr>\n",
       "    <tr>\n",
       "      <th>6</th>\n",
       "      <td>-4.000000e-01</td>\n",
       "      <td>1.600000e-01</td>\n",
       "    </tr>\n",
       "    <tr>\n",
       "      <th>7</th>\n",
       "      <td>-3.000000e-01</td>\n",
       "      <td>9.000000e-02</td>\n",
       "    </tr>\n",
       "    <tr>\n",
       "      <th>8</th>\n",
       "      <td>-2.000000e-01</td>\n",
       "      <td>4.000000e-02</td>\n",
       "    </tr>\n",
       "    <tr>\n",
       "      <th>9</th>\n",
       "      <td>-1.000000e-01</td>\n",
       "      <td>1.000000e-02</td>\n",
       "    </tr>\n",
       "    <tr>\n",
       "      <th>10</th>\n",
       "      <td>-2.220446e-16</td>\n",
       "      <td>4.930381e-32</td>\n",
       "    </tr>\n",
       "    <tr>\n",
       "      <th>11</th>\n",
       "      <td>1.000000e-01</td>\n",
       "      <td>1.000000e-02</td>\n",
       "    </tr>\n",
       "    <tr>\n",
       "      <th>12</th>\n",
       "      <td>2.000000e-01</td>\n",
       "      <td>4.000000e-02</td>\n",
       "    </tr>\n",
       "    <tr>\n",
       "      <th>13</th>\n",
       "      <td>3.000000e-01</td>\n",
       "      <td>9.000000e-02</td>\n",
       "    </tr>\n",
       "    <tr>\n",
       "      <th>14</th>\n",
       "      <td>4.000000e-01</td>\n",
       "      <td>1.600000e-01</td>\n",
       "    </tr>\n",
       "    <tr>\n",
       "      <th>15</th>\n",
       "      <td>5.000000e-01</td>\n",
       "      <td>2.500000e-01</td>\n",
       "    </tr>\n",
       "    <tr>\n",
       "      <th>16</th>\n",
       "      <td>6.000000e-01</td>\n",
       "      <td>3.600000e-01</td>\n",
       "    </tr>\n",
       "    <tr>\n",
       "      <th>17</th>\n",
       "      <td>7.000000e-01</td>\n",
       "      <td>4.900000e-01</td>\n",
       "    </tr>\n",
       "    <tr>\n",
       "      <th>18</th>\n",
       "      <td>8.000000e-01</td>\n",
       "      <td>6.400000e-01</td>\n",
       "    </tr>\n",
       "    <tr>\n",
       "      <th>19</th>\n",
       "      <td>9.000000e-01</td>\n",
       "      <td>8.100000e-01</td>\n",
       "    </tr>\n",
       "    <tr>\n",
       "      <th>20</th>\n",
       "      <td>1.000000e+00</td>\n",
       "      <td>1.000000e+00</td>\n",
       "    </tr>\n",
       "    <tr>\n",
       "      <th>21</th>\n",
       "      <td>1.100000e+00</td>\n",
       "      <td>1.210000e+00</td>\n",
       "    </tr>\n",
       "  </tbody>\n",
       "</table>\n",
       "</div>"
      ],
      "text/plain": [
       "               X             y\n",
       "0  -1.000000e+00  1.000000e+00\n",
       "1  -9.000000e-01  8.100000e-01\n",
       "2  -8.000000e-01  6.400000e-01\n",
       "3  -7.000000e-01  4.900000e-01\n",
       "4  -6.000000e-01  3.600000e-01\n",
       "5  -5.000000e-01  2.500000e-01\n",
       "6  -4.000000e-01  1.600000e-01\n",
       "7  -3.000000e-01  9.000000e-02\n",
       "8  -2.000000e-01  4.000000e-02\n",
       "9  -1.000000e-01  1.000000e-02\n",
       "10 -2.220446e-16  4.930381e-32\n",
       "11  1.000000e-01  1.000000e-02\n",
       "12  2.000000e-01  4.000000e-02\n",
       "13  3.000000e-01  9.000000e-02\n",
       "14  4.000000e-01  1.600000e-01\n",
       "15  5.000000e-01  2.500000e-01\n",
       "16  6.000000e-01  3.600000e-01\n",
       "17  7.000000e-01  4.900000e-01\n",
       "18  8.000000e-01  6.400000e-01\n",
       "19  9.000000e-01  8.100000e-01\n",
       "20  1.000000e+00  1.000000e+00\n",
       "21  1.100000e+00  1.210000e+00"
      ]
     },
     "execution_count": 16,
     "metadata": {},
     "output_type": "execute_result"
    }
   ],
   "source": [
    "df2 = pd.DataFrame({'X':X, 'y':y2})\n",
    "df2\n"
   ]
  },
  {
   "cell_type": "code",
   "execution_count": 17,
   "metadata": {},
   "outputs": [
    {
     "data": {
      "image/png": "[encoded data removed]",
      "text/plain": [
       "<Figure size 640x480 with 1 Axes>"
      ]
     },
     "metadata": {},
     "output_type": "display_data"
    }
   ],
   "source": [
    "sns.scatterplot(x='X', y='y', data=df2)\n",
    "plt.grid()\n",
    "plt.show()\n"
   ]
  },
  {
   "cell_type": "code",
   "execution_count": 18,
   "metadata": {},
   "outputs": [
    {
     "name": "stderr",
     "output_type": "stream",
     "text": [
      "/tmp/ipykernel_13148/2789105416.py:1: RuntimeWarning: invalid value encountered in sqrt\n",
      "  y3 = np.sqrt(X)\n"
     ]
    },
    {
     "data": {
      "text/plain": [
       "array([       nan,        nan,        nan,        nan,        nan,\n",
       "              nan,        nan,        nan,        nan,        nan,\n",
       "              nan, 0.31622777, 0.4472136 , 0.54772256, 0.63245553,\n",
       "       0.70710678, 0.77459667, 0.83666003, 0.89442719, 0.9486833 ,\n",
       "       1.        , 1.04880885])"
      ]
     },
     "execution_count": 18,
     "metadata": {},
     "output_type": "execute_result"
    }
   ],
   "source": [
    "y3 = np.sqrt(X)\n",
    "y3\n"
   ]
  },
  {
   "cell_type": "code",
   "execution_count": 19,
   "metadata": {},
   "outputs": [
    {
     "name": "stderr",
     "output_type": "stream",
     "text": [
      "/tmp/ipykernel_13148/2679143330.py:1: RuntimeWarning: invalid value encountered in power\n",
      "  X**(1/3)  # or alternatively: np.power(X, 1/3)\n"
     ]
    },
    {
     "data": {
      "text/plain": [
       "array([       nan,        nan,        nan,        nan,        nan,\n",
       "              nan,        nan,        nan,        nan,        nan,\n",
       "              nan, 0.46415888, 0.58480355, 0.66943295, 0.7368063 ,\n",
       "       0.79370053, 0.84343267, 0.887904  , 0.92831777, 0.96548938,\n",
       "       1.        , 1.03228012])"
      ]
     },
     "execution_count": 19,
     "metadata": {},
     "output_type": "execute_result"
    }
   ],
   "source": [
    "\n",
    "X**(1/3)  # or alternatively: np.power(X, 1/3)"
   ]
  },
  {
   "cell_type": "code",
   "execution_count": 20,
   "metadata": {},
   "outputs": [
    {
     "data": {
      "text/html": [
       "<div>\n",
       "<style scoped>\n",
       "    .dataframe tbody tr th:only-of-type {\n",
       "        vertical-align: middle;\n",
       "    }\n",
       "\n",
       "    .dataframe tbody tr th {\n",
       "        vertical-align: top;\n",
       "    }\n",
       "\n",
       "    .dataframe thead th {\n",
       "        text-align: right;\n",
       "    }\n",
       "</style>\n",
       "<table border=\"1\" class=\"dataframe\">\n",
       "  <thead>\n",
       "    <tr style=\"text-align: right;\">\n",
       "      <th></th>\n",
       "      <th>X</th>\n",
       "      <th>y</th>\n",
       "    </tr>\n",
       "  </thead>\n",
       "  <tbody>\n",
       "    <tr>\n",
       "      <th>0</th>\n",
       "      <td>-1.000000e+00</td>\n",
       "      <td>NaN</td>\n",
       "    </tr>\n",
       "    <tr>\n",
       "      <th>1</th>\n",
       "      <td>-9.000000e-01</td>\n",
       "      <td>NaN</td>\n",
       "    </tr>\n",
       "    <tr>\n",
       "      <th>2</th>\n",
       "      <td>-8.000000e-01</td>\n",
       "      <td>NaN</td>\n",
       "    </tr>\n",
       "    <tr>\n",
       "      <th>3</th>\n",
       "      <td>-7.000000e-01</td>\n",
       "      <td>NaN</td>\n",
       "    </tr>\n",
       "    <tr>\n",
       "      <th>4</th>\n",
       "      <td>-6.000000e-01</td>\n",
       "      <td>NaN</td>\n",
       "    </tr>\n",
       "    <tr>\n",
       "      <th>5</th>\n",
       "      <td>-5.000000e-01</td>\n",
       "      <td>NaN</td>\n",
       "    </tr>\n",
       "    <tr>\n",
       "      <th>6</th>\n",
       "      <td>-4.000000e-01</td>\n",
       "      <td>NaN</td>\n",
       "    </tr>\n",
       "    <tr>\n",
       "      <th>7</th>\n",
       "      <td>-3.000000e-01</td>\n",
       "      <td>NaN</td>\n",
       "    </tr>\n",
       "    <tr>\n",
       "      <th>8</th>\n",
       "      <td>-2.000000e-01</td>\n",
       "      <td>NaN</td>\n",
       "    </tr>\n",
       "    <tr>\n",
       "      <th>9</th>\n",
       "      <td>-1.000000e-01</td>\n",
       "      <td>NaN</td>\n",
       "    </tr>\n",
       "    <tr>\n",
       "      <th>10</th>\n",
       "      <td>-2.220446e-16</td>\n",
       "      <td>NaN</td>\n",
       "    </tr>\n",
       "    <tr>\n",
       "      <th>11</th>\n",
       "      <td>1.000000e-01</td>\n",
       "      <td>0.316228</td>\n",
       "    </tr>\n",
       "    <tr>\n",
       "      <th>12</th>\n",
       "      <td>2.000000e-01</td>\n",
       "      <td>0.447214</td>\n",
       "    </tr>\n",
       "    <tr>\n",
       "      <th>13</th>\n",
       "      <td>3.000000e-01</td>\n",
       "      <td>0.547723</td>\n",
       "    </tr>\n",
       "    <tr>\n",
       "      <th>14</th>\n",
       "      <td>4.000000e-01</td>\n",
       "      <td>0.632456</td>\n",
       "    </tr>\n",
       "    <tr>\n",
       "      <th>15</th>\n",
       "      <td>5.000000e-01</td>\n",
       "      <td>0.707107</td>\n",
       "    </tr>\n",
       "    <tr>\n",
       "      <th>16</th>\n",
       "      <td>6.000000e-01</td>\n",
       "      <td>0.774597</td>\n",
       "    </tr>\n",
       "    <tr>\n",
       "      <th>17</th>\n",
       "      <td>7.000000e-01</td>\n",
       "      <td>0.836660</td>\n",
       "    </tr>\n",
       "    <tr>\n",
       "      <th>18</th>\n",
       "      <td>8.000000e-01</td>\n",
       "      <td>0.894427</td>\n",
       "    </tr>\n",
       "    <tr>\n",
       "      <th>19</th>\n",
       "      <td>9.000000e-01</td>\n",
       "      <td>0.948683</td>\n",
       "    </tr>\n",
       "    <tr>\n",
       "      <th>20</th>\n",
       "      <td>1.000000e+00</td>\n",
       "      <td>1.000000</td>\n",
       "    </tr>\n",
       "    <tr>\n",
       "      <th>21</th>\n",
       "      <td>1.100000e+00</td>\n",
       "      <td>1.048809</td>\n",
       "    </tr>\n",
       "  </tbody>\n",
       "</table>\n",
       "</div>"
      ],
      "text/plain": [
       "               X         y\n",
       "0  -1.000000e+00       NaN\n",
       "1  -9.000000e-01       NaN\n",
       "2  -8.000000e-01       NaN\n",
       "3  -7.000000e-01       NaN\n",
       "4  -6.000000e-01       NaN\n",
       "5  -5.000000e-01       NaN\n",
       "6  -4.000000e-01       NaN\n",
       "7  -3.000000e-01       NaN\n",
       "8  -2.000000e-01       NaN\n",
       "9  -1.000000e-01       NaN\n",
       "10 -2.220446e-16       NaN\n",
       "11  1.000000e-01  0.316228\n",
       "12  2.000000e-01  0.447214\n",
       "13  3.000000e-01  0.547723\n",
       "14  4.000000e-01  0.632456\n",
       "15  5.000000e-01  0.707107\n",
       "16  6.000000e-01  0.774597\n",
       "17  7.000000e-01  0.836660\n",
       "18  8.000000e-01  0.894427\n",
       "19  9.000000e-01  0.948683\n",
       "20  1.000000e+00  1.000000\n",
       "21  1.100000e+00  1.048809"
      ]
     },
     "execution_count": 20,
     "metadata": {},
     "output_type": "execute_result"
    }
   ],
   "source": [
    "df3 = pd.DataFrame({'X':X, 'y':y3})\n",
    "df3\n"
   ]
  },
  {
   "cell_type": "code",
   "execution_count": 21,
   "metadata": {},
   "outputs": [
    {
     "data": {
      "text/plain": [
       "-1.0"
      ]
     },
     "execution_count": 21,
     "metadata": {},
     "output_type": "execute_result"
    }
   ],
   "source": [
    "X[0]"
   ]
  },
  {
   "cell_type": "code",
   "execution_count": 22,
   "metadata": {},
   "outputs": [
    {
     "data": {
      "image/png": "[encoded data removed]",
      "text/plain": [
       "<Figure size 640x480 with 1 Axes>"
      ]
     },
     "metadata": {},
     "output_type": "display_data"
    }
   ],
   "source": [
    "sns.scatterplot(x='X', y='y', data=df3)\n",
    "plt.grid()  # adds a grid\n",
    "plt.show()\n"
   ]
  },
  {
   "cell_type": "code",
   "execution_count": 23,
   "metadata": {},
   "outputs": [
    {
     "data": {
      "image/png": "[encoded data removed]",
      "text/plain": [
       "<Figure size 640x480 with 1 Axes>"
      ]
     },
     "metadata": {},
     "output_type": "display_data"
    }
   ],
   "source": [
    "sns.scatterplot(x='X', y='y', data=df2)\n",
    "sns.scatterplot(x='X', y='y', data=df3)\n",
    "plt.grid()\n",
    "plt.show()"
   ]
  },
  {
   "cell_type": "code",
   "execution_count": 24,
   "metadata": {},
   "outputs": [
    {
     "data": {
      "text/plain": [
       "array([1.    , 0.8461, 0.7696, 0.7501, 0.7696, 0.8125, 0.8656, 0.9181,\n",
       "       0.9616, 0.9901, 1.    , 0.9901, 0.9616, 0.9181, 0.8656, 0.8125,\n",
       "       0.7696, 0.7501, 0.7696, 0.8461, 1.    , 1.2541])"
      ]
     },
     "execution_count": 24,
     "metadata": {},
     "output_type": "execute_result"
    }
   ],
   "source": [
    "y4 = (np.power(X,4) - np.power(X,2) + 1)\n",
    "y4"
   ]
  },
  {
   "cell_type": "code",
   "execution_count": 25,
   "metadata": {},
   "outputs": [
    {
     "data": {
      "text/html": [
       "<div>\n",
       "<style scoped>\n",
       "    .dataframe tbody tr th:only-of-type {\n",
       "        vertical-align: middle;\n",
       "    }\n",
       "\n",
       "    .dataframe tbody tr th {\n",
       "        vertical-align: top;\n",
       "    }\n",
       "\n",
       "    .dataframe thead th {\n",
       "        text-align: right;\n",
       "    }\n",
       "</style>\n",
       "<table border=\"1\" class=\"dataframe\">\n",
       "  <thead>\n",
       "    <tr style=\"text-align: right;\">\n",
       "      <th></th>\n",
       "      <th>X</th>\n",
       "      <th>y</th>\n",
       "    </tr>\n",
       "  </thead>\n",
       "  <tbody>\n",
       "    <tr>\n",
       "      <th>0</th>\n",
       "      <td>-1.000000e+00</td>\n",
       "      <td>1.0000</td>\n",
       "    </tr>\n",
       "    <tr>\n",
       "      <th>1</th>\n",
       "      <td>-9.000000e-01</td>\n",
       "      <td>0.8461</td>\n",
       "    </tr>\n",
       "    <tr>\n",
       "      <th>2</th>\n",
       "      <td>-8.000000e-01</td>\n",
       "      <td>0.7696</td>\n",
       "    </tr>\n",
       "    <tr>\n",
       "      <th>3</th>\n",
       "      <td>-7.000000e-01</td>\n",
       "      <td>0.7501</td>\n",
       "    </tr>\n",
       "    <tr>\n",
       "      <th>4</th>\n",
       "      <td>-6.000000e-01</td>\n",
       "      <td>0.7696</td>\n",
       "    </tr>\n",
       "    <tr>\n",
       "      <th>5</th>\n",
       "      <td>-5.000000e-01</td>\n",
       "      <td>0.8125</td>\n",
       "    </tr>\n",
       "    <tr>\n",
       "      <th>6</th>\n",
       "      <td>-4.000000e-01</td>\n",
       "      <td>0.8656</td>\n",
       "    </tr>\n",
       "    <tr>\n",
       "      <th>7</th>\n",
       "      <td>-3.000000e-01</td>\n",
       "      <td>0.9181</td>\n",
       "    </tr>\n",
       "    <tr>\n",
       "      <th>8</th>\n",
       "      <td>-2.000000e-01</td>\n",
       "      <td>0.9616</td>\n",
       "    </tr>\n",
       "    <tr>\n",
       "      <th>9</th>\n",
       "      <td>-1.000000e-01</td>\n",
       "      <td>0.9901</td>\n",
       "    </tr>\n",
       "    <tr>\n",
       "      <th>10</th>\n",
       "      <td>-2.220446e-16</td>\n",
       "      <td>1.0000</td>\n",
       "    </tr>\n",
       "    <tr>\n",
       "      <th>11</th>\n",
       "      <td>1.000000e-01</td>\n",
       "      <td>0.9901</td>\n",
       "    </tr>\n",
       "    <tr>\n",
       "      <th>12</th>\n",
       "      <td>2.000000e-01</td>\n",
       "      <td>0.9616</td>\n",
       "    </tr>\n",
       "    <tr>\n",
       "      <th>13</th>\n",
       "      <td>3.000000e-01</td>\n",
       "      <td>0.9181</td>\n",
       "    </tr>\n",
       "    <tr>\n",
       "      <th>14</th>\n",
       "      <td>4.000000e-01</td>\n",
       "      <td>0.8656</td>\n",
       "    </tr>\n",
       "    <tr>\n",
       "      <th>15</th>\n",
       "      <td>5.000000e-01</td>\n",
       "      <td>0.8125</td>\n",
       "    </tr>\n",
       "    <tr>\n",
       "      <th>16</th>\n",
       "      <td>6.000000e-01</td>\n",
       "      <td>0.7696</td>\n",
       "    </tr>\n",
       "    <tr>\n",
       "      <th>17</th>\n",
       "      <td>7.000000e-01</td>\n",
       "      <td>0.7501</td>\n",
       "    </tr>\n",
       "    <tr>\n",
       "      <th>18</th>\n",
       "      <td>8.000000e-01</td>\n",
       "      <td>0.7696</td>\n",
       "    </tr>\n",
       "    <tr>\n",
       "      <th>19</th>\n",
       "      <td>9.000000e-01</td>\n",
       "      <td>0.8461</td>\n",
       "    </tr>\n",
       "    <tr>\n",
       "      <th>20</th>\n",
       "      <td>1.000000e+00</td>\n",
       "      <td>1.0000</td>\n",
       "    </tr>\n",
       "    <tr>\n",
       "      <th>21</th>\n",
       "      <td>1.100000e+00</td>\n",
       "      <td>1.2541</td>\n",
       "    </tr>\n",
       "  </tbody>\n",
       "</table>\n",
       "</div>"
      ],
      "text/plain": [
       "               X       y\n",
       "0  -1.000000e+00  1.0000\n",
       "1  -9.000000e-01  0.8461\n",
       "2  -8.000000e-01  0.7696\n",
       "3  -7.000000e-01  0.7501\n",
       "4  -6.000000e-01  0.7696\n",
       "5  -5.000000e-01  0.8125\n",
       "6  -4.000000e-01  0.8656\n",
       "7  -3.000000e-01  0.9181\n",
       "8  -2.000000e-01  0.9616\n",
       "9  -1.000000e-01  0.9901\n",
       "10 -2.220446e-16  1.0000\n",
       "11  1.000000e-01  0.9901\n",
       "12  2.000000e-01  0.9616\n",
       "13  3.000000e-01  0.9181\n",
       "14  4.000000e-01  0.8656\n",
       "15  5.000000e-01  0.8125\n",
       "16  6.000000e-01  0.7696\n",
       "17  7.000000e-01  0.7501\n",
       "18  8.000000e-01  0.7696\n",
       "19  9.000000e-01  0.8461\n",
       "20  1.000000e+00  1.0000\n",
       "21  1.100000e+00  1.2541"
      ]
     },
     "execution_count": 25,
     "metadata": {},
     "output_type": "execute_result"
    }
   ],
   "source": [
    "df4 = pd.DataFrame({'X':X, 'y':y4})\n",
    "df4"
   ]
  },
  {
   "cell_type": "code",
   "execution_count": 26,
   "metadata": {},
   "outputs": [
    {
     "data": {
      "image/png": "[encoded data removed]",
      "text/plain": [
       "<Figure size 640x480 with 1 Axes>"
      ]
     },
     "metadata": {},
     "output_type": "display_data"
    }
   ],
   "source": [
    "sns.scatterplot(x='X', y='y', data=df4)\n",
    "plt.grid()\n",
    "plt.show()"
   ]
  },
  {
   "cell_type": "code",
   "execution_count": 27,
   "metadata": {},
   "outputs": [
    {
     "name": "stderr",
     "output_type": "stream",
     "text": [
      "/tmp/ipykernel_13148/1796928994.py:1: RuntimeWarning: invalid value encountered in power\n",
      "  y5 = (np.power(X,1/4)-np.sqrt(X))\n",
      "/tmp/ipykernel_13148/1796928994.py:1: RuntimeWarning: invalid value encountered in sqrt\n",
      "  y5 = (np.power(X,1/4)-np.sqrt(X))\n"
     ]
    },
    {
     "data": {
      "text/plain": [
       "array([            nan,             nan,             nan,             nan,\n",
       "                   nan,             nan,             nan,             nan,\n",
       "                   nan,             nan,             nan,  2.46113559e-01,\n",
       "        2.21526709e-01,  1.92360247e-01,  1.62815197e-01,  1.33789634e-01,\n",
       "        1.05515068e-01,  7.80311927e-02,  5.13144180e-02,  2.53204484e-02,\n",
       "        1.11022302e-16, -2.46951591e-02])"
      ]
     },
     "execution_count": 27,
     "metadata": {},
     "output_type": "execute_result"
    }
   ],
   "source": [
    "y5 = (np.power(X,1/4)-np.sqrt(X))\n",
    "y5"
   ]
  },
  {
   "cell_type": "code",
   "execution_count": 28,
   "metadata": {},
   "outputs": [
    {
     "data": {
      "text/html": [
       "<div>\n",
       "<style scoped>\n",
       "    .dataframe tbody tr th:only-of-type {\n",
       "        vertical-align: middle;\n",
       "    }\n",
       "\n",
       "    .dataframe tbody tr th {\n",
       "        vertical-align: top;\n",
       "    }\n",
       "\n",
       "    .dataframe thead th {\n",
       "        text-align: right;\n",
       "    }\n",
       "</style>\n",
       "<table border=\"1\" class=\"dataframe\">\n",
       "  <thead>\n",
       "    <tr style=\"text-align: right;\">\n",
       "      <th></th>\n",
       "      <th>X</th>\n",
       "      <th>y</th>\n",
       "    </tr>\n",
       "  </thead>\n",
       "  <tbody>\n",
       "    <tr>\n",
       "      <th>0</th>\n",
       "      <td>-1.000000e+00</td>\n",
       "      <td>NaN</td>\n",
       "    </tr>\n",
       "    <tr>\n",
       "      <th>1</th>\n",
       "      <td>-9.000000e-01</td>\n",
       "      <td>NaN</td>\n",
       "    </tr>\n",
       "    <tr>\n",
       "      <th>2</th>\n",
       "      <td>-8.000000e-01</td>\n",
       "      <td>NaN</td>\n",
       "    </tr>\n",
       "    <tr>\n",
       "      <th>3</th>\n",
       "      <td>-7.000000e-01</td>\n",
       "      <td>NaN</td>\n",
       "    </tr>\n",
       "    <tr>\n",
       "      <th>4</th>\n",
       "      <td>-6.000000e-01</td>\n",
       "      <td>NaN</td>\n",
       "    </tr>\n",
       "    <tr>\n",
       "      <th>5</th>\n",
       "      <td>-5.000000e-01</td>\n",
       "      <td>NaN</td>\n",
       "    </tr>\n",
       "    <tr>\n",
       "      <th>6</th>\n",
       "      <td>-4.000000e-01</td>\n",
       "      <td>NaN</td>\n",
       "    </tr>\n",
       "    <tr>\n",
       "      <th>7</th>\n",
       "      <td>-3.000000e-01</td>\n",
       "      <td>NaN</td>\n",
       "    </tr>\n",
       "    <tr>\n",
       "      <th>8</th>\n",
       "      <td>-2.000000e-01</td>\n",
       "      <td>NaN</td>\n",
       "    </tr>\n",
       "    <tr>\n",
       "      <th>9</th>\n",
       "      <td>-1.000000e-01</td>\n",
       "      <td>NaN</td>\n",
       "    </tr>\n",
       "    <tr>\n",
       "      <th>10</th>\n",
       "      <td>-2.220446e-16</td>\n",
       "      <td>NaN</td>\n",
       "    </tr>\n",
       "    <tr>\n",
       "      <th>11</th>\n",
       "      <td>1.000000e-01</td>\n",
       "      <td>2.461136e-01</td>\n",
       "    </tr>\n",
       "    <tr>\n",
       "      <th>12</th>\n",
       "      <td>2.000000e-01</td>\n",
       "      <td>2.215267e-01</td>\n",
       "    </tr>\n",
       "    <tr>\n",
       "      <th>13</th>\n",
       "      <td>3.000000e-01</td>\n",
       "      <td>1.923602e-01</td>\n",
       "    </tr>\n",
       "    <tr>\n",
       "      <th>14</th>\n",
       "      <td>4.000000e-01</td>\n",
       "      <td>1.628152e-01</td>\n",
       "    </tr>\n",
       "    <tr>\n",
       "      <th>15</th>\n",
       "      <td>5.000000e-01</td>\n",
       "      <td>1.337896e-01</td>\n",
       "    </tr>\n",
       "    <tr>\n",
       "      <th>16</th>\n",
       "      <td>6.000000e-01</td>\n",
       "      <td>1.055151e-01</td>\n",
       "    </tr>\n",
       "    <tr>\n",
       "      <th>17</th>\n",
       "      <td>7.000000e-01</td>\n",
       "      <td>7.803119e-02</td>\n",
       "    </tr>\n",
       "    <tr>\n",
       "      <th>18</th>\n",
       "      <td>8.000000e-01</td>\n",
       "      <td>5.131442e-02</td>\n",
       "    </tr>\n",
       "    <tr>\n",
       "      <th>19</th>\n",
       "      <td>9.000000e-01</td>\n",
       "      <td>2.532045e-02</td>\n",
       "    </tr>\n",
       "    <tr>\n",
       "      <th>20</th>\n",
       "      <td>1.000000e+00</td>\n",
       "      <td>1.110223e-16</td>\n",
       "    </tr>\n",
       "    <tr>\n",
       "      <th>21</th>\n",
       "      <td>1.100000e+00</td>\n",
       "      <td>-2.469516e-02</td>\n",
       "    </tr>\n",
       "  </tbody>\n",
       "</table>\n",
       "</div>"
      ],
      "text/plain": [
       "               X             y\n",
       "0  -1.000000e+00           NaN\n",
       "1  -9.000000e-01           NaN\n",
       "2  -8.000000e-01           NaN\n",
       "3  -7.000000e-01           NaN\n",
       "4  -6.000000e-01           NaN\n",
       "5  -5.000000e-01           NaN\n",
       "6  -4.000000e-01           NaN\n",
       "7  -3.000000e-01           NaN\n",
       "8  -2.000000e-01           NaN\n",
       "9  -1.000000e-01           NaN\n",
       "10 -2.220446e-16           NaN\n",
       "11  1.000000e-01  2.461136e-01\n",
       "12  2.000000e-01  2.215267e-01\n",
       "13  3.000000e-01  1.923602e-01\n",
       "14  4.000000e-01  1.628152e-01\n",
       "15  5.000000e-01  1.337896e-01\n",
       "16  6.000000e-01  1.055151e-01\n",
       "17  7.000000e-01  7.803119e-02\n",
       "18  8.000000e-01  5.131442e-02\n",
       "19  9.000000e-01  2.532045e-02\n",
       "20  1.000000e+00  1.110223e-16\n",
       "21  1.100000e+00 -2.469516e-02"
      ]
     },
     "execution_count": 28,
     "metadata": {},
     "output_type": "execute_result"
    }
   ],
   "source": [
    "df5 = pd.DataFrame({'X':X, 'y':y5}) \n",
    "df5"
   ]
  },
  {
   "cell_type": "code",
   "execution_count": 29,
   "metadata": {},
   "outputs": [
    {
     "data": {
      "image/png": "[encoded data removed]",
      "text/plain": [
       "<Figure size 640x480 with 1 Axes>"
      ]
     },
     "metadata": {},
     "output_type": "display_data"
    }
   ],
   "source": [
    "sns.scatterplot(x='X', y='y', data=df5)\n",
    "plt.grid()\n",
    "plt.show()"
   ]
  },
  {
   "cell_type": "code",
   "execution_count": 30,
   "metadata": {},
   "outputs": [
    {
     "data": {
      "image/png": "[encoded data removed]",
      "text/plain": [
       "<Figure size 640x480 with 1 Axes>"
      ]
     },
     "metadata": {},
     "output_type": "display_data"
    }
   ],
   "source": [
    "sns.scatterplot(x='X', y='y', data=df4)\n",
    "sns.scatterplot(x='X', y='y', data=df5)\n",
    "plt.plot(X, X, 'r--', label='y=x')  # adds a red dashed line y=x\n",
    "plt.grid()\n",
    "plt.show()"
   ]
  },
  {
   "cell_type": "code",
   "execution_count": 32,
   "metadata": {},
   "outputs": [
    {
     "data": {
      "text/plain": [
       "array([1.00000000e+00, 5.31441000e-01, 2.62144000e-01, 1.17649000e-01,\n",
       "       4.66560000e-02, 1.56250000e-02, 4.09600000e-03, 7.29000000e-04,\n",
       "       6.40000000e-05, 1.00000000e-06, 1.19850915e-94, 1.00000000e-06,\n",
       "       6.40000000e-05, 7.29000000e-04, 4.09600000e-03, 1.56250000e-02,\n",
       "       4.66560000e-02, 1.17649000e-01, 2.62144000e-01, 5.31441000e-01,\n",
       "       1.00000000e+00, 1.77156100e+00])"
      ]
     },
     "execution_count": 32,
     "metadata": {},
     "output_type": "execute_result"
    }
   ],
   "source": [
    "y6 = (np.power(X,6))\n",
    "y6\n"
   ]
  },
  {
   "cell_type": "code",
   "execution_count": 33,
   "metadata": {},
   "outputs": [
    {
     "data": {
      "text/html": [
       "<div>\n",
       "<style scoped>\n",
       "    .dataframe tbody tr th:only-of-type {\n",
       "        vertical-align: middle;\n",
       "    }\n",
       "\n",
       "    .dataframe tbody tr th {\n",
       "        vertical-align: top;\n",
       "    }\n",
       "\n",
       "    .dataframe thead th {\n",
       "        text-align: right;\n",
       "    }\n",
       "</style>\n",
       "<table border=\"1\" class=\"dataframe\">\n",
       "  <thead>\n",
       "    <tr style=\"text-align: right;\">\n",
       "      <th></th>\n",
       "      <th>X</th>\n",
       "      <th>y</th>\n",
       "    </tr>\n",
       "  </thead>\n",
       "  <tbody>\n",
       "    <tr>\n",
       "      <th>0</th>\n",
       "      <td>-1.000000e+00</td>\n",
       "      <td>1.000000e+00</td>\n",
       "    </tr>\n",
       "    <tr>\n",
       "      <th>1</th>\n",
       "      <td>-9.000000e-01</td>\n",
       "      <td>5.314410e-01</td>\n",
       "    </tr>\n",
       "    <tr>\n",
       "      <th>2</th>\n",
       "      <td>-8.000000e-01</td>\n",
       "      <td>2.621440e-01</td>\n",
       "    </tr>\n",
       "    <tr>\n",
       "      <th>3</th>\n",
       "      <td>-7.000000e-01</td>\n",
       "      <td>1.176490e-01</td>\n",
       "    </tr>\n",
       "    <tr>\n",
       "      <th>4</th>\n",
       "      <td>-6.000000e-01</td>\n",
       "      <td>4.665600e-02</td>\n",
       "    </tr>\n",
       "    <tr>\n",
       "      <th>5</th>\n",
       "      <td>-5.000000e-01</td>\n",
       "      <td>1.562500e-02</td>\n",
       "    </tr>\n",
       "    <tr>\n",
       "      <th>6</th>\n",
       "      <td>-4.000000e-01</td>\n",
       "      <td>4.096000e-03</td>\n",
       "    </tr>\n",
       "    <tr>\n",
       "      <th>7</th>\n",
       "      <td>-3.000000e-01</td>\n",
       "      <td>7.290000e-04</td>\n",
       "    </tr>\n",
       "    <tr>\n",
       "      <th>8</th>\n",
       "      <td>-2.000000e-01</td>\n",
       "      <td>6.400000e-05</td>\n",
       "    </tr>\n",
       "    <tr>\n",
       "      <th>9</th>\n",
       "      <td>-1.000000e-01</td>\n",
       "      <td>1.000000e-06</td>\n",
       "    </tr>\n",
       "    <tr>\n",
       "      <th>10</th>\n",
       "      <td>-2.220446e-16</td>\n",
       "      <td>1.198509e-94</td>\n",
       "    </tr>\n",
       "    <tr>\n",
       "      <th>11</th>\n",
       "      <td>1.000000e-01</td>\n",
       "      <td>1.000000e-06</td>\n",
       "    </tr>\n",
       "    <tr>\n",
       "      <th>12</th>\n",
       "      <td>2.000000e-01</td>\n",
       "      <td>6.400000e-05</td>\n",
       "    </tr>\n",
       "    <tr>\n",
       "      <th>13</th>\n",
       "      <td>3.000000e-01</td>\n",
       "      <td>7.290000e-04</td>\n",
       "    </tr>\n",
       "    <tr>\n",
       "      <th>14</th>\n",
       "      <td>4.000000e-01</td>\n",
       "      <td>4.096000e-03</td>\n",
       "    </tr>\n",
       "    <tr>\n",
       "      <th>15</th>\n",
       "      <td>5.000000e-01</td>\n",
       "      <td>1.562500e-02</td>\n",
       "    </tr>\n",
       "    <tr>\n",
       "      <th>16</th>\n",
       "      <td>6.000000e-01</td>\n",
       "      <td>4.665600e-02</td>\n",
       "    </tr>\n",
       "    <tr>\n",
       "      <th>17</th>\n",
       "      <td>7.000000e-01</td>\n",
       "      <td>1.176490e-01</td>\n",
       "    </tr>\n",
       "    <tr>\n",
       "      <th>18</th>\n",
       "      <td>8.000000e-01</td>\n",
       "      <td>2.621440e-01</td>\n",
       "    </tr>\n",
       "    <tr>\n",
       "      <th>19</th>\n",
       "      <td>9.000000e-01</td>\n",
       "      <td>5.314410e-01</td>\n",
       "    </tr>\n",
       "    <tr>\n",
       "      <th>20</th>\n",
       "      <td>1.000000e+00</td>\n",
       "      <td>1.000000e+00</td>\n",
       "    </tr>\n",
       "    <tr>\n",
       "      <th>21</th>\n",
       "      <td>1.100000e+00</td>\n",
       "      <td>1.771561e+00</td>\n",
       "    </tr>\n",
       "  </tbody>\n",
       "</table>\n",
       "</div>"
      ],
      "text/plain": [
       "               X             y\n",
       "0  -1.000000e+00  1.000000e+00\n",
       "1  -9.000000e-01  5.314410e-01\n",
       "2  -8.000000e-01  2.621440e-01\n",
       "3  -7.000000e-01  1.176490e-01\n",
       "4  -6.000000e-01  4.665600e-02\n",
       "5  -5.000000e-01  1.562500e-02\n",
       "6  -4.000000e-01  4.096000e-03\n",
       "7  -3.000000e-01  7.290000e-04\n",
       "8  -2.000000e-01  6.400000e-05\n",
       "9  -1.000000e-01  1.000000e-06\n",
       "10 -2.220446e-16  1.198509e-94\n",
       "11  1.000000e-01  1.000000e-06\n",
       "12  2.000000e-01  6.400000e-05\n",
       "13  3.000000e-01  7.290000e-04\n",
       "14  4.000000e-01  4.096000e-03\n",
       "15  5.000000e-01  1.562500e-02\n",
       "16  6.000000e-01  4.665600e-02\n",
       "17  7.000000e-01  1.176490e-01\n",
       "18  8.000000e-01  2.621440e-01\n",
       "19  9.000000e-01  5.314410e-01\n",
       "20  1.000000e+00  1.000000e+00\n",
       "21  1.100000e+00  1.771561e+00"
      ]
     },
     "execution_count": 33,
     "metadata": {},
     "output_type": "execute_result"
    }
   ],
   "source": [
    "df6 = pd.DataFrame({'X':X, 'y':y6})\n",
    "df6\n"
   ]
  },
  {
   "cell_type": "code",
   "execution_count": 34,
   "metadata": {},
   "outputs": [
    {
     "data": {
      "image/png": "[encoded data removed]",
      "text/plain": [
       "<Figure size 640x480 with 1 Axes>"
      ]
     },
     "metadata": {},
     "output_type": "display_data"
    }
   ],
   "source": [
    "sns.scatterplot(x='X', y='y', data=df6)\n",
    "plt.grid()\n",
    "plt.show()\n",
    "\n"
   ]
  },
  {
   "cell_type": "code",
   "execution_count": 35,
   "metadata": {},
   "outputs": [
    {
     "name": "stderr",
     "output_type": "stream",
     "text": [
      "/tmp/ipykernel_13148/3853997368.py:1: RuntimeWarning: invalid value encountered in power\n",
      "  y7 = (np.power(X,1/6))\n"
     ]
    },
    {
     "data": {
      "text/plain": [
       "array([       nan,        nan,        nan,        nan,        nan,\n",
       "              nan,        nan,        nan,        nan,        nan,\n",
       "              nan, 0.68129207, 0.76472449, 0.81818882, 0.85837422,\n",
       "       0.89089872, 0.9183859 , 0.94228658, 0.96349248, 0.98259319,\n",
       "       1.        , 1.01601187])"
      ]
     },
     "execution_count": 35,
     "metadata": {},
     "output_type": "execute_result"
    }
   ],
   "source": [
    "y7 = (np.power(X,1/6))\n",
    "y7\n"
   ]
  },
  {
   "cell_type": "markdown",
   "metadata": {},
   "source": [
    "### inverse is not a function"
   ]
  },
  {
   "cell_type": "code",
   "execution_count": 37,
   "metadata": {},
   "outputs": [
    {
     "data": {
      "text/plain": [
       "array([ 3.00000000e+00,  2.70000000e+00,  2.40000000e+00,  2.10000000e+00,\n",
       "        1.80000000e+00,  1.50000000e+00,  1.20000000e+00,  9.00000000e-01,\n",
       "        6.00000000e-01,  3.00000000e-01,  6.66133815e-16, -3.00000000e-01,\n",
       "       -6.00000000e-01, -9.00000000e-01, -1.20000000e+00, -1.50000000e+00,\n",
       "       -1.80000000e+00, -2.10000000e+00, -2.40000000e+00, -2.70000000e+00,\n",
       "       -3.00000000e+00, -3.30000000e+00])"
      ]
     },
     "execution_count": 37,
     "metadata": {},
     "output_type": "execute_result"
    }
   ],
   "source": [
    "y8 = (-3*X)\n",
    "y8\n"
   ]
  },
  {
   "cell_type": "code",
   "execution_count": 38,
   "metadata": {},
   "outputs": [
    {
     "data": {
      "text/html": [
       "<div>\n",
       "<style scoped>\n",
       "    .dataframe tbody tr th:only-of-type {\n",
       "        vertical-align: middle;\n",
       "    }\n",
       "\n",
       "    .dataframe tbody tr th {\n",
       "        vertical-align: top;\n",
       "    }\n",
       "\n",
       "    .dataframe thead th {\n",
       "        text-align: right;\n",
       "    }\n",
       "</style>\n",
       "<table border=\"1\" class=\"dataframe\">\n",
       "  <thead>\n",
       "    <tr style=\"text-align: right;\">\n",
       "      <th></th>\n",
       "      <th>X</th>\n",
       "      <th>y</th>\n",
       "    </tr>\n",
       "  </thead>\n",
       "  <tbody>\n",
       "    <tr>\n",
       "      <th>0</th>\n",
       "      <td>-1.000000e+00</td>\n",
       "      <td>3.000000e+00</td>\n",
       "    </tr>\n",
       "    <tr>\n",
       "      <th>1</th>\n",
       "      <td>-9.000000e-01</td>\n",
       "      <td>2.700000e+00</td>\n",
       "    </tr>\n",
       "    <tr>\n",
       "      <th>2</th>\n",
       "      <td>-8.000000e-01</td>\n",
       "      <td>2.400000e+00</td>\n",
       "    </tr>\n",
       "    <tr>\n",
       "      <th>3</th>\n",
       "      <td>-7.000000e-01</td>\n",
       "      <td>2.100000e+00</td>\n",
       "    </tr>\n",
       "    <tr>\n",
       "      <th>4</th>\n",
       "      <td>-6.000000e-01</td>\n",
       "      <td>1.800000e+00</td>\n",
       "    </tr>\n",
       "    <tr>\n",
       "      <th>5</th>\n",
       "      <td>-5.000000e-01</td>\n",
       "      <td>1.500000e+00</td>\n",
       "    </tr>\n",
       "    <tr>\n",
       "      <th>6</th>\n",
       "      <td>-4.000000e-01</td>\n",
       "      <td>1.200000e+00</td>\n",
       "    </tr>\n",
       "    <tr>\n",
       "      <th>7</th>\n",
       "      <td>-3.000000e-01</td>\n",
       "      <td>9.000000e-01</td>\n",
       "    </tr>\n",
       "    <tr>\n",
       "      <th>8</th>\n",
       "      <td>-2.000000e-01</td>\n",
       "      <td>6.000000e-01</td>\n",
       "    </tr>\n",
       "    <tr>\n",
       "      <th>9</th>\n",
       "      <td>-1.000000e-01</td>\n",
       "      <td>3.000000e-01</td>\n",
       "    </tr>\n",
       "    <tr>\n",
       "      <th>10</th>\n",
       "      <td>-2.220446e-16</td>\n",
       "      <td>6.661338e-16</td>\n",
       "    </tr>\n",
       "    <tr>\n",
       "      <th>11</th>\n",
       "      <td>1.000000e-01</td>\n",
       "      <td>-3.000000e-01</td>\n",
       "    </tr>\n",
       "    <tr>\n",
       "      <th>12</th>\n",
       "      <td>2.000000e-01</td>\n",
       "      <td>-6.000000e-01</td>\n",
       "    </tr>\n",
       "    <tr>\n",
       "      <th>13</th>\n",
       "      <td>3.000000e-01</td>\n",
       "      <td>-9.000000e-01</td>\n",
       "    </tr>\n",
       "    <tr>\n",
       "      <th>14</th>\n",
       "      <td>4.000000e-01</td>\n",
       "      <td>-1.200000e+00</td>\n",
       "    </tr>\n",
       "    <tr>\n",
       "      <th>15</th>\n",
       "      <td>5.000000e-01</td>\n",
       "      <td>-1.500000e+00</td>\n",
       "    </tr>\n",
       "    <tr>\n",
       "      <th>16</th>\n",
       "      <td>6.000000e-01</td>\n",
       "      <td>-1.800000e+00</td>\n",
       "    </tr>\n",
       "    <tr>\n",
       "      <th>17</th>\n",
       "      <td>7.000000e-01</td>\n",
       "      <td>-2.100000e+00</td>\n",
       "    </tr>\n",
       "    <tr>\n",
       "      <th>18</th>\n",
       "      <td>8.000000e-01</td>\n",
       "      <td>-2.400000e+00</td>\n",
       "    </tr>\n",
       "    <tr>\n",
       "      <th>19</th>\n",
       "      <td>9.000000e-01</td>\n",
       "      <td>-2.700000e+00</td>\n",
       "    </tr>\n",
       "    <tr>\n",
       "      <th>20</th>\n",
       "      <td>1.000000e+00</td>\n",
       "      <td>-3.000000e+00</td>\n",
       "    </tr>\n",
       "    <tr>\n",
       "      <th>21</th>\n",
       "      <td>1.100000e+00</td>\n",
       "      <td>-3.300000e+00</td>\n",
       "    </tr>\n",
       "  </tbody>\n",
       "</table>\n",
       "</div>"
      ],
      "text/plain": [
       "               X             y\n",
       "0  -1.000000e+00  3.000000e+00\n",
       "1  -9.000000e-01  2.700000e+00\n",
       "2  -8.000000e-01  2.400000e+00\n",
       "3  -7.000000e-01  2.100000e+00\n",
       "4  -6.000000e-01  1.800000e+00\n",
       "5  -5.000000e-01  1.500000e+00\n",
       "6  -4.000000e-01  1.200000e+00\n",
       "7  -3.000000e-01  9.000000e-01\n",
       "8  -2.000000e-01  6.000000e-01\n",
       "9  -1.000000e-01  3.000000e-01\n",
       "10 -2.220446e-16  6.661338e-16\n",
       "11  1.000000e-01 -3.000000e-01\n",
       "12  2.000000e-01 -6.000000e-01\n",
       "13  3.000000e-01 -9.000000e-01\n",
       "14  4.000000e-01 -1.200000e+00\n",
       "15  5.000000e-01 -1.500000e+00\n",
       "16  6.000000e-01 -1.800000e+00\n",
       "17  7.000000e-01 -2.100000e+00\n",
       "18  8.000000e-01 -2.400000e+00\n",
       "19  9.000000e-01 -2.700000e+00\n",
       "20  1.000000e+00 -3.000000e+00\n",
       "21  1.100000e+00 -3.300000e+00"
      ]
     },
     "execution_count": 38,
     "metadata": {},
     "output_type": "execute_result"
    }
   ],
   "source": [
    "df8 = pd.DataFrame({'X':X, 'y':y8})\n",
    "df8\n"
   ]
  },
  {
   "cell_type": "code",
   "execution_count": 39,
   "metadata": {},
   "outputs": [
    {
     "data": {
      "image/png": "[encoded data removed]",
      "text/plain": [
       "<Figure size 640x480 with 1 Axes>"
      ]
     },
     "metadata": {},
     "output_type": "display_data"
    }
   ],
   "source": [
    "sns.scatterplot(x='X', y='y', data=df8)\n",
    "plt.grid()\n",
    "plt.show()"
   ]
  },
  {
   "cell_type": "code",
   "execution_count": 40,
   "metadata": {},
   "outputs": [
    {
     "data": {
      "text/plain": [
       "array([ 3.33333333e-01,  3.00000000e-01,  2.66666667e-01,  2.33333333e-01,\n",
       "        2.00000000e-01,  1.66666667e-01,  1.33333333e-01,  1.00000000e-01,\n",
       "        6.66666667e-02,  3.33333333e-02,  7.40148683e-17, -3.33333333e-02,\n",
       "       -6.66666667e-02, -1.00000000e-01, -1.33333333e-01, -1.66666667e-01,\n",
       "       -2.00000000e-01, -2.33333333e-01, -2.66666667e-01, -3.00000000e-01,\n",
       "       -3.33333333e-01, -3.66666667e-01])"
      ]
     },
     "execution_count": 40,
     "metadata": {},
     "output_type": "execute_result"
    }
   ],
   "source": [
    "inv_y8 = (X/(-3))\n",
    "inv_y8"
   ]
  },
  {
   "cell_type": "code",
   "execution_count": 41,
   "metadata": {},
   "outputs": [
    {
     "data": {
      "text/html": [
       "<div>\n",
       "<style scoped>\n",
       "    .dataframe tbody tr th:only-of-type {\n",
       "        vertical-align: middle;\n",
       "    }\n",
       "\n",
       "    .dataframe tbody tr th {\n",
       "        vertical-align: top;\n",
       "    }\n",
       "\n",
       "    .dataframe thead th {\n",
       "        text-align: right;\n",
       "    }\n",
       "</style>\n",
       "<table border=\"1\" class=\"dataframe\">\n",
       "  <thead>\n",
       "    <tr style=\"text-align: right;\">\n",
       "      <th></th>\n",
       "      <th>X</th>\n",
       "      <th>y</th>\n",
       "    </tr>\n",
       "  </thead>\n",
       "  <tbody>\n",
       "    <tr>\n",
       "      <th>0</th>\n",
       "      <td>-1.000000e+00</td>\n",
       "      <td>3.333333e-01</td>\n",
       "    </tr>\n",
       "    <tr>\n",
       "      <th>1</th>\n",
       "      <td>-9.000000e-01</td>\n",
       "      <td>3.000000e-01</td>\n",
       "    </tr>\n",
       "    <tr>\n",
       "      <th>2</th>\n",
       "      <td>-8.000000e-01</td>\n",
       "      <td>2.666667e-01</td>\n",
       "    </tr>\n",
       "    <tr>\n",
       "      <th>3</th>\n",
       "      <td>-7.000000e-01</td>\n",
       "      <td>2.333333e-01</td>\n",
       "    </tr>\n",
       "    <tr>\n",
       "      <th>4</th>\n",
       "      <td>-6.000000e-01</td>\n",
       "      <td>2.000000e-01</td>\n",
       "    </tr>\n",
       "    <tr>\n",
       "      <th>5</th>\n",
       "      <td>-5.000000e-01</td>\n",
       "      <td>1.666667e-01</td>\n",
       "    </tr>\n",
       "    <tr>\n",
       "      <th>6</th>\n",
       "      <td>-4.000000e-01</td>\n",
       "      <td>1.333333e-01</td>\n",
       "    </tr>\n",
       "    <tr>\n",
       "      <th>7</th>\n",
       "      <td>-3.000000e-01</td>\n",
       "      <td>1.000000e-01</td>\n",
       "    </tr>\n",
       "    <tr>\n",
       "      <th>8</th>\n",
       "      <td>-2.000000e-01</td>\n",
       "      <td>6.666667e-02</td>\n",
       "    </tr>\n",
       "    <tr>\n",
       "      <th>9</th>\n",
       "      <td>-1.000000e-01</td>\n",
       "      <td>3.333333e-02</td>\n",
       "    </tr>\n",
       "    <tr>\n",
       "      <th>10</th>\n",
       "      <td>-2.220446e-16</td>\n",
       "      <td>7.401487e-17</td>\n",
       "    </tr>\n",
       "    <tr>\n",
       "      <th>11</th>\n",
       "      <td>1.000000e-01</td>\n",
       "      <td>-3.333333e-02</td>\n",
       "    </tr>\n",
       "    <tr>\n",
       "      <th>12</th>\n",
       "      <td>2.000000e-01</td>\n",
       "      <td>-6.666667e-02</td>\n",
       "    </tr>\n",
       "    <tr>\n",
       "      <th>13</th>\n",
       "      <td>3.000000e-01</td>\n",
       "      <td>-1.000000e-01</td>\n",
       "    </tr>\n",
       "    <tr>\n",
       "      <th>14</th>\n",
       "      <td>4.000000e-01</td>\n",
       "      <td>-1.333333e-01</td>\n",
       "    </tr>\n",
       "    <tr>\n",
       "      <th>15</th>\n",
       "      <td>5.000000e-01</td>\n",
       "      <td>-1.666667e-01</td>\n",
       "    </tr>\n",
       "    <tr>\n",
       "      <th>16</th>\n",
       "      <td>6.000000e-01</td>\n",
       "      <td>-2.000000e-01</td>\n",
       "    </tr>\n",
       "    <tr>\n",
       "      <th>17</th>\n",
       "      <td>7.000000e-01</td>\n",
       "      <td>-2.333333e-01</td>\n",
       "    </tr>\n",
       "    <tr>\n",
       "      <th>18</th>\n",
       "      <td>8.000000e-01</td>\n",
       "      <td>-2.666667e-01</td>\n",
       "    </tr>\n",
       "    <tr>\n",
       "      <th>19</th>\n",
       "      <td>9.000000e-01</td>\n",
       "      <td>-3.000000e-01</td>\n",
       "    </tr>\n",
       "    <tr>\n",
       "      <th>20</th>\n",
       "      <td>1.000000e+00</td>\n",
       "      <td>-3.333333e-01</td>\n",
       "    </tr>\n",
       "    <tr>\n",
       "      <th>21</th>\n",
       "      <td>1.100000e+00</td>\n",
       "      <td>-3.666667e-01</td>\n",
       "    </tr>\n",
       "  </tbody>\n",
       "</table>\n",
       "</div>"
      ],
      "text/plain": [
       "               X             y\n",
       "0  -1.000000e+00  3.333333e-01\n",
       "1  -9.000000e-01  3.000000e-01\n",
       "2  -8.000000e-01  2.666667e-01\n",
       "3  -7.000000e-01  2.333333e-01\n",
       "4  -6.000000e-01  2.000000e-01\n",
       "5  -5.000000e-01  1.666667e-01\n",
       "6  -4.000000e-01  1.333333e-01\n",
       "7  -3.000000e-01  1.000000e-01\n",
       "8  -2.000000e-01  6.666667e-02\n",
       "9  -1.000000e-01  3.333333e-02\n",
       "10 -2.220446e-16  7.401487e-17\n",
       "11  1.000000e-01 -3.333333e-02\n",
       "12  2.000000e-01 -6.666667e-02\n",
       "13  3.000000e-01 -1.000000e-01\n",
       "14  4.000000e-01 -1.333333e-01\n",
       "15  5.000000e-01 -1.666667e-01\n",
       "16  6.000000e-01 -2.000000e-01\n",
       "17  7.000000e-01 -2.333333e-01\n",
       "18  8.000000e-01 -2.666667e-01\n",
       "19  9.000000e-01 -3.000000e-01\n",
       "20  1.000000e+00 -3.333333e-01\n",
       "21  1.100000e+00 -3.666667e-01"
      ]
     },
     "execution_count": 41,
     "metadata": {},
     "output_type": "execute_result"
    }
   ],
   "source": [
    "df8_inv = pd.DataFrame({'X':X, 'y':inv_y8})\n",
    "df8_inv"
   ]
  },
  {
   "cell_type": "code",
   "execution_count": 44,
   "metadata": {},
   "outputs": [
    {
     "data": {
      "image/png": "[encoded data removed]",
      "text/plain": [
       "<Figure size 640x480 with 1 Axes>"
      ]
     },
     "metadata": {},
     "output_type": "display_data"
    }
   ],
   "source": [
    "sns.scatterplot(x='X', y='y', data=df8_inv)\n",
    "sns.scatterplot(x='X', y='y', data=df8)\n",
    "plt.plot(X, X, 'r--', label='y=x')  # adds a red dashed line y=x\n",
    "plt.legend()\n",
    "\n",
    "plt.grid()\n",
    "plt.show()\n"
   ]
  },
  {
   "cell_type": "code",
   "execution_count": 45,
   "metadata": {},
   "outputs": [
    {
     "name": "stderr",
     "output_type": "stream",
     "text": [
      "/tmp/ipykernel_13148/2795525042.py:1: RuntimeWarning: invalid value encountered in sqrt\n",
      "  y9 = (np.sqrt(np.power(X,3)))\n"
     ]
    },
    {
     "data": {
      "text/plain": [
       "array([       nan,        nan,        nan,        nan,        nan,\n",
       "              nan,        nan,        nan,        nan,        nan,\n",
       "              nan, 0.03162278, 0.08944272, 0.16431677, 0.25298221,\n",
       "       0.35355339, 0.464758  , 0.58566202, 0.71554175, 0.85381497,\n",
       "       1.        , 1.15368973])"
      ]
     },
     "execution_count": 45,
     "metadata": {},
     "output_type": "execute_result"
    }
   ],
   "source": [
    "y9 = (np.sqrt(np.power(X,3)))\n",
    "y9"
   ]
  },
  {
   "cell_type": "code",
   "execution_count": 46,
   "metadata": {},
   "outputs": [
    {
     "data": {
      "text/plain": [
       "array([1.00000000e+00, 9.32169752e-01, 8.61773876e-01, 7.88373516e-01,\n",
       "       7.11378661e-01, 6.29960525e-01, 5.42883523e-01, 4.48140475e-01,\n",
       "       3.41995189e-01, 2.15443469e-01, 3.66685286e-11, 2.15443469e-01,\n",
       "       3.41995189e-01, 4.48140475e-01, 5.42883523e-01, 6.29960525e-01,\n",
       "       7.11378661e-01, 7.88373516e-01, 8.61773876e-01, 9.32169752e-01,\n",
       "       1.00000000e+00, 1.06560224e+00])"
      ]
     },
     "execution_count": 46,
     "metadata": {},
     "output_type": "execute_result"
    }
   ],
   "source": [
    "y10 = (np.cbrt(np.power(X,2)))\n",
    "y10"
   ]
  },
  {
   "cell_type": "code",
   "execution_count": 48,
   "metadata": {},
   "outputs": [
    {
     "data": {
      "text/html": [
       "<div>\n",
       "<style scoped>\n",
       "    .dataframe tbody tr th:only-of-type {\n",
       "        vertical-align: middle;\n",
       "    }\n",
       "\n",
       "    .dataframe tbody tr th {\n",
       "        vertical-align: top;\n",
       "    }\n",
       "\n",
       "    .dataframe thead th {\n",
       "        text-align: right;\n",
       "    }\n",
       "</style>\n",
       "<table border=\"1\" class=\"dataframe\">\n",
       "  <thead>\n",
       "    <tr style=\"text-align: right;\">\n",
       "      <th></th>\n",
       "      <th>X</th>\n",
       "      <th>y</th>\n",
       "    </tr>\n",
       "  </thead>\n",
       "  <tbody>\n",
       "    <tr>\n",
       "      <th>0</th>\n",
       "      <td>-1.000000e+00</td>\n",
       "      <td>1.000000e+00</td>\n",
       "    </tr>\n",
       "    <tr>\n",
       "      <th>1</th>\n",
       "      <td>-9.000000e-01</td>\n",
       "      <td>9.321698e-01</td>\n",
       "    </tr>\n",
       "    <tr>\n",
       "      <th>2</th>\n",
       "      <td>-8.000000e-01</td>\n",
       "      <td>8.617739e-01</td>\n",
       "    </tr>\n",
       "    <tr>\n",
       "      <th>3</th>\n",
       "      <td>-7.000000e-01</td>\n",
       "      <td>7.883735e-01</td>\n",
       "    </tr>\n",
       "    <tr>\n",
       "      <th>4</th>\n",
       "      <td>-6.000000e-01</td>\n",
       "      <td>7.113787e-01</td>\n",
       "    </tr>\n",
       "    <tr>\n",
       "      <th>5</th>\n",
       "      <td>-5.000000e-01</td>\n",
       "      <td>6.299605e-01</td>\n",
       "    </tr>\n",
       "    <tr>\n",
       "      <th>6</th>\n",
       "      <td>-4.000000e-01</td>\n",
       "      <td>5.428835e-01</td>\n",
       "    </tr>\n",
       "    <tr>\n",
       "      <th>7</th>\n",
       "      <td>-3.000000e-01</td>\n",
       "      <td>4.481405e-01</td>\n",
       "    </tr>\n",
       "    <tr>\n",
       "      <th>8</th>\n",
       "      <td>-2.000000e-01</td>\n",
       "      <td>3.419952e-01</td>\n",
       "    </tr>\n",
       "    <tr>\n",
       "      <th>9</th>\n",
       "      <td>-1.000000e-01</td>\n",
       "      <td>2.154435e-01</td>\n",
       "    </tr>\n",
       "    <tr>\n",
       "      <th>10</th>\n",
       "      <td>-2.220446e-16</td>\n",
       "      <td>3.666853e-11</td>\n",
       "    </tr>\n",
       "    <tr>\n",
       "      <th>11</th>\n",
       "      <td>1.000000e-01</td>\n",
       "      <td>2.154435e-01</td>\n",
       "    </tr>\n",
       "    <tr>\n",
       "      <th>12</th>\n",
       "      <td>2.000000e-01</td>\n",
       "      <td>3.419952e-01</td>\n",
       "    </tr>\n",
       "    <tr>\n",
       "      <th>13</th>\n",
       "      <td>3.000000e-01</td>\n",
       "      <td>4.481405e-01</td>\n",
       "    </tr>\n",
       "    <tr>\n",
       "      <th>14</th>\n",
       "      <td>4.000000e-01</td>\n",
       "      <td>5.428835e-01</td>\n",
       "    </tr>\n",
       "    <tr>\n",
       "      <th>15</th>\n",
       "      <td>5.000000e-01</td>\n",
       "      <td>6.299605e-01</td>\n",
       "    </tr>\n",
       "    <tr>\n",
       "      <th>16</th>\n",
       "      <td>6.000000e-01</td>\n",
       "      <td>7.113787e-01</td>\n",
       "    </tr>\n",
       "    <tr>\n",
       "      <th>17</th>\n",
       "      <td>7.000000e-01</td>\n",
       "      <td>7.883735e-01</td>\n",
       "    </tr>\n",
       "    <tr>\n",
       "      <th>18</th>\n",
       "      <td>8.000000e-01</td>\n",
       "      <td>8.617739e-01</td>\n",
       "    </tr>\n",
       "    <tr>\n",
       "      <th>19</th>\n",
       "      <td>9.000000e-01</td>\n",
       "      <td>9.321698e-01</td>\n",
       "    </tr>\n",
       "    <tr>\n",
       "      <th>20</th>\n",
       "      <td>1.000000e+00</td>\n",
       "      <td>1.000000e+00</td>\n",
       "    </tr>\n",
       "    <tr>\n",
       "      <th>21</th>\n",
       "      <td>1.100000e+00</td>\n",
       "      <td>1.065602e+00</td>\n",
       "    </tr>\n",
       "  </tbody>\n",
       "</table>\n",
       "</div>"
      ],
      "text/plain": [
       "               X             y\n",
       "0  -1.000000e+00  1.000000e+00\n",
       "1  -9.000000e-01  9.321698e-01\n",
       "2  -8.000000e-01  8.617739e-01\n",
       "3  -7.000000e-01  7.883735e-01\n",
       "4  -6.000000e-01  7.113787e-01\n",
       "5  -5.000000e-01  6.299605e-01\n",
       "6  -4.000000e-01  5.428835e-01\n",
       "7  -3.000000e-01  4.481405e-01\n",
       "8  -2.000000e-01  3.419952e-01\n",
       "9  -1.000000e-01  2.154435e-01\n",
       "10 -2.220446e-16  3.666853e-11\n",
       "11  1.000000e-01  2.154435e-01\n",
       "12  2.000000e-01  3.419952e-01\n",
       "13  3.000000e-01  4.481405e-01\n",
       "14  4.000000e-01  5.428835e-01\n",
       "15  5.000000e-01  6.299605e-01\n",
       "16  6.000000e-01  7.113787e-01\n",
       "17  7.000000e-01  7.883735e-01\n",
       "18  8.000000e-01  8.617739e-01\n",
       "19  9.000000e-01  9.321698e-01\n",
       "20  1.000000e+00  1.000000e+00\n",
       "21  1.100000e+00  1.065602e+00"
      ]
     },
     "execution_count": 48,
     "metadata": {},
     "output_type": "execute_result"
    }
   ],
   "source": [
    "df10 = pd.DataFrame({'X':X, 'y':y10})\n",
    "df10"
   ]
  },
  {
   "cell_type": "code",
   "execution_count": 49,
   "metadata": {},
   "outputs": [
    {
     "data": {
      "image/png": "[encoded data removed]",
      "text/plain": [
       "<Figure size 640x480 with 1 Axes>"
      ]
     },
     "metadata": {},
     "output_type": "display_data"
    }
   ],
   "source": [
    "sns.scatterplot(x='X', y='y', data=df10)\n",
    "plt.grid()\n",
    "plt.show()\n",
    "\n"
   ]
  },
  {
   "cell_type": "code",
   "execution_count": 47,
   "metadata": {},
   "outputs": [
    {
     "data": {
      "image/png": "[encoded data removed]",
      "text/plain": [
       "<Figure size 640x480 with 1 Axes>"
      ]
     },
     "metadata": {},
     "output_type": "display_data"
    }
   ],
   "source": [
    "# plt.plot(X,y9)\n",
    "plt.plot(X,y10)\n",
    "plt.grid()\n",
    "plt.show()"
   ]
  },
  {
   "cell_type": "code",
   "execution_count": null,
   "metadata": {},
   "outputs": [],
   "source": []
  }
 ],
 "metadata": {
  "kernelspec": {
   "display_name": "pip_only",
   "language": "python",
   "name": "python3"
  },
  "language_info": {
   "codemirror_mode": {
    "name": "ipython",
    "version": 3
   },
   "file_extension": ".py",
   "mimetype": "text/x-python",
   "name": "python",
   "nbconvert_exporter": "python",
   "pygments_lexer": "ipython3",
   "version": "3.9.11"
  }
 },
 "nbformat": 4,
 "nbformat_minor": 2
}
